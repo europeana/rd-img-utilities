{
 "cells": [
  {
   "cell_type": "code",
   "execution_count": 2,
   "id": "9846a150-cd73-40b7-8670-805aa3cdc756",
   "metadata": {},
   "outputs": [
    {
     "name": "stdout",
     "output_type": "stream",
     "text": [
      "(79548, 17)\n",
      "(1591, 17)\n"
     ]
    }
   ],
   "source": [
    "import pandas as pd\n",
    "\n",
    "df = pd.read_csv('/storage/data/sample.csv')\n",
    "print(df.shape)\n",
    "df = df.sample(frac = 0.02)\n",
    "print(df.shape)\n",
    "\n",
    "df.to_csv('/storage/data/small_sample.csv',index = False)"
   ]
  },
  {
   "cell_type": "code",
   "execution_count": null,
   "id": "1a748d89-c1c0-4709-88c5-c1e2e4cf5db0",
   "metadata": {},
   "outputs": [],
   "source": []
  },
  {
   "cell_type": "code",
   "execution_count": null,
   "id": "5db35c57-649f-4926-8254-a49ed344c847",
   "metadata": {},
   "outputs": [],
   "source": [
    "from PIL import Image"
   ]
  },
  {
   "cell_type": "code",
   "execution_count": 11,
   "id": "68b6aa02-9479-4173-b7f5-6ec9855b18e1",
   "metadata": {},
   "outputs": [],
   "source": [
    "from concurrent.futures import ThreadPoolExecutor, as_completed\n",
    "from PIL import Image\n",
    "import os\n",
    "from pathlib import Path\n",
    "\n",
    "\n",
    "def get_image_dimensions(image_path):\n",
    "    \"\"\"Returns the dimensions of the image at the given path.\"\"\"\n",
    "    with Image.open(image_path) as img:\n",
    "        return image_path, img.size  # img.size is a tuple (width, height)\n",
    "\n",
    "def main(image_paths):\n",
    "    dimensions = {}\n",
    "    with ThreadPoolExecutor(max_workers=10) as executor:\n",
    "        # Submit all the tasks and remember the future for each submission.\n",
    "        future_to_image = {executor.submit(get_image_dimensions, path): path for path in image_paths}\n",
    "        \n",
    "        for future in as_completed(future_to_image):\n",
    "            image_path = future_to_image[future]\n",
    "            try:\n",
    "                path, size = future.result()  # Get the result from the future.\n",
    "                dimensions[path.stem] = size\n",
    "            except Exception as exc:\n",
    "                print(f'{image_path} generated an exception: {exc}')\n",
    "                \n",
    "    return dimensions\n",
    "\n",
    "# Example usage\n",
    "#image_paths = ['path/to/image1.jpg', 'path/to/image2.jpg']  # List of image paths\n",
    "\n",
    "path = '/storage/data/thumbnails_LARGE'\n",
    "image_paths = [image_path for image_path in Path(path).iterdir()]\n",
    "image_dimensions_LARGE = main(image_paths)\n",
    "image_dimensions_LARGE = {k.split('-')[0]:v for k,v in image_dimensions_LARGE.items()}\n",
    "#print(image_dimensions)\n"
   ]
  },
  {
   "cell_type": "code",
   "execution_count": 12,
   "id": "066cba7e-9ba3-4da7-b657-a8b61a273750",
   "metadata": {},
   "outputs": [],
   "source": [
    "path = '/storage/data/thumbnails_MEDIUM'\n",
    "image_paths = [image_path for image_path in Path(path).iterdir()]\n",
    "image_dimensions_MEDIUM = main(image_paths)\n",
    "image_dimensions_MEDIUM = {k.split('-')[0]:v for k,v in image_dimensions_MEDIUM.items()}\n"
   ]
  },
  {
   "cell_type": "code",
   "execution_count": 19,
   "id": "040c4fd7-d100-40e2-a2c9-449297b9b85b",
   "metadata": {},
   "outputs": [
    {
     "name": "stdout",
     "output_type": "stream",
     "text": [
      "(160, 120) (160, 120)\n",
      "(200, 200) (200, 200)\n",
      "(200, 200) (200, 200)\n",
      "(200, 200) (200, 200)\n",
      "(200, 200) (200, 200)\n",
      "(200, 200) (200, 200)\n",
      "(200, 200) (200, 200)\n",
      "(200, 200) (200, 200)\n",
      "(200, 200) (200, 200)\n",
      "(200, 200) (200, 200)\n",
      "(200, 200) (200, 200)\n",
      "(128, 128) (128, 128)\n",
      "(200, 200) (200, 200)\n",
      "(200, 200) (200, 200)\n",
      "(200, 200) (200, 200)\n",
      "(200, 200) (200, 200)\n"
     ]
    },
    {
     "data": {
      "text/plain": [
       "98.71589085072232"
      ]
     },
     "execution_count": 19,
     "metadata": {},
     "output_type": "execute_result"
    }
   ],
   "source": [
    "count = 0\n",
    "\n",
    "for hash,dim_l in image_dimensions_LARGE.items():\n",
    "    dim_m = image_dimensions_MEDIUM[hash]\n",
    "    if dim_l != dim_m:\n",
    "        #print(dim_m, dim_l)\n",
    "        count += 1\n",
    "    else:\n",
    "        print(dim_m, dim_l)\n",
    "        \n",
    "\n",
    "\n",
    "100.0*count/len(image_dimensions_LARGE)\n",
    "    "
   ]
  }
 ],
 "metadata": {
  "kernelspec": {
   "display_name": "Python 3 (ipykernel)",
   "language": "python",
   "name": "python3"
  },
  "language_info": {
   "codemirror_mode": {
    "name": "ipython",
    "version": 3
   },
   "file_extension": ".py",
   "mimetype": "text/x-python",
   "name": "python",
   "nbconvert_exporter": "python",
   "pygments_lexer": "ipython3",
   "version": "3.8.10"
  }
 },
 "nbformat": 4,
 "nbformat_minor": 5
}
