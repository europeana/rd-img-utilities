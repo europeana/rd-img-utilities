{
 "cells": [
  {
   "cell_type": "code",
   "execution_count": 1,
   "id": "9846a150-cd73-40b7-8670-805aa3cdc756",
   "metadata": {},
   "outputs": [
    {
     "name": "stdout",
     "output_type": "stream",
     "text": [
      "(79548, 17)\n",
      "(7955, 17)\n"
     ]
    }
   ],
   "source": [
    "import pandas as pd\n",
    "\n",
    "df = pd.read_csv('/storage/data/sample.csv')\n",
    "print(df.shape)\n",
    "df = df.sample(frac = 0.1)\n",
    "print(df.shape)\n",
    "\n",
    "df.to_csv('/storage/data/small_sample.csv',index = False)"
   ]
  }
 ],
 "metadata": {
  "kernelspec": {
   "display_name": "Python 3 (ipykernel)",
   "language": "python",
   "name": "python3"
  },
  "language_info": {
   "codemirror_mode": {
    "name": "ipython",
    "version": 3
   },
   "file_extension": ".py",
   "mimetype": "text/x-python",
   "name": "python",
   "nbconvert_exporter": "python",
   "pygments_lexer": "ipython3",
   "version": "3.8.10"
  }
 },
 "nbformat": 4,
 "nbformat_minor": 5
}
